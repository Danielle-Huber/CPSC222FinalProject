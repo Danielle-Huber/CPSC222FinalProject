{
 "cells": [
  {
   "cell_type": "markdown",
   "metadata": {},
   "source": [
    "# Danielle's Final Project"
   ]
  },
  {
   "cell_type": "markdown",
   "metadata": {},
   "source": [
    "* Danielle Huber\n",
    "* CPSC 222 Fall 2020 \n",
    "* Final Project \n",
    "* 14 December 2020"
   ]
  },
  {
   "cell_type": "markdown",
   "metadata": {},
   "source": [
    "## Introduction"
   ]
  },
  {
   "cell_type": "markdown",
   "metadata": {},
   "source": [
    "(Write Here)"
   ]
  },
  {
   "cell_type": "markdown",
   "metadata": {},
   "source": [
    "## Data Analysis"
   ]
  },
  {
   "cell_type": "markdown",
   "metadata": {},
   "source": [
    "#### Importing Utility Files and Libraries"
   ]
  },
  {
   "cell_type": "code",
   "execution_count": 2,
   "metadata": {},
   "outputs": [],
   "source": [
    "import spotify_funct\n",
    "import project_funct\n",
    "\n",
    "import pandas as pd \n",
    "import numpy as np\n",
    "import matplotlib.pyplot as plt\n",
    "from datetime import datetime, date, time, timezone\n",
    "import scipy.stats as stats"
   ]
  },
  {
   "cell_type": "markdown",
   "metadata": {},
   "source": [
    "#### Reading in the Data"
   ]
  },
  {
   "cell_type": "code",
   "execution_count": 3,
   "metadata": {},
   "outputs": [],
   "source": [
    "pandas_object = pd.read_json(\"StreamingHistory0.json\")\n",
    "csv_data = pandas_object.to_csv(\"music_data.csv\", index = 0)\n",
    "data_frame = pd.read_csv(\"music_data.csv\", header = 0)"
   ]
  },
  {
   "cell_type": "markdown",
   "metadata": {},
   "source": [
    "### Data Cleaning / Preparation"
   ]
  },
  {
   "cell_type": "markdown",
   "metadata": {},
   "source": [
    "#### Making Sense of the Date Column"
   ]
  },
  {
   "cell_type": "code",
   "execution_count": 4,
   "metadata": {},
   "outputs": [],
   "source": [
    "weekday_list = []\n",
    "\n",
    "for value in data_frame[\"endTime\"]:\n",
    "    date_info = datetime.strptime(value, \"%Y-%m-%d %H:%M\")\n",
    "    tuple = date_info.timetuple()\n",
    "    weekday_list.append(tuple[6])\n",
    "    \n",
    "data_frame[\"dayOfWeek\"] = weekday_list"
   ]
  },
  {
   "cell_type": "markdown",
   "metadata": {},
   "source": [
    "#### Adding \"skipOrPlay\" Column"
   ]
  },
  {
   "cell_type": "markdown",
   "metadata": {},
   "source": [
    "I wanted to classify each track I played as a \"skip\" or a \"play\" to analyze my attention span for certain artists, genres, or music-listening behavior in general. If I played a song for less that 10 seconds (10000 milliseconds), I considered it to be a skipped song. Anything 10 seconds or above, I considered it to be a played song."
   ]
  },
  {
   "cell_type": "code",
   "execution_count": 5,
   "metadata": {},
   "outputs": [],
   "source": [
    "skip_column_list = []\n",
    "\n",
    "for value in data_frame[\"msPlayed\"]:\n",
    "    if value >= 10000:\n",
    "        skip_column_list.append(\"Play\")\n",
    "    if value < 10000:\n",
    "        skip_column_list.append(\"Skip\")\n",
    "\n",
    "data_frame[\"skipOrPlay\"] = skip_column_list"
   ]
  },
  {
   "cell_type": "markdown",
   "metadata": {},
   "source": [
    "#### Adding \"artistGenre\" Column"
   ]
  },
  {
   "cell_type": "markdown",
   "metadata": {},
   "source": [
    "In order to do some data analysis and classification related to the genre of the artists I listen to, with the help of Dr. Sprint, I was able to use the Spotify API to get a genre for each artist. For those where a genre was unavailable, a \"NaN\" value is placed in this column. The functions to find the genre are defined in the \"spotify_functions.py\" file I imported."
   ]
  },
  {
   "cell_type": "code",
   "execution_count": 6,
   "metadata": {},
   "outputs": [],
   "source": [
    "# Creating a Series of All Unique Artists in my Dataset\n",
    "unique_artists_ser = data_frame[\"artistName\"].unique()\n",
    "\n",
    "# Removing Troublesome Artists\n",
    "unique_artists_list = list(unique_artists_ser)\n",
    "unique_artists_list.remove(\"Max Embers\")\n",
    "unique_artists_list.remove(\"Taylor Swift - Lover\")\n"
   ]
  },
  {
   "cell_type": "code",
   "execution_count": null,
   "metadata": {
    "jupyter": {
     "source_hidden": true
    }
   },
   "outputs": [],
   "source": [
    "# Finding the Genre for Each Artist\n",
    "\n",
    "# genre_column = []\n",
    "\n",
    "# for artist in unique_artists_list:\n",
    "#     genres = spotify_funct.get_genres_list_for_artist(artist)\n",
    "#     if (len(genres) > 0):\n",
    "#         genre_column.append(genres[0])\n",
    "#     else:\n",
    "#         genre_column.append(np.nan)"
   ]
  },
  {
   "cell_type": "code",
   "execution_count": null,
   "metadata": {
    "jupyter": {
     "source_hidden": true
    }
   },
   "outputs": [],
   "source": [
    "# Converting to DataFrame and Merging with Artist Names\n",
    "\n",
    "# genre_data_frame = pd.DataFrame(genre_column)\n",
    "# artist_data_frame = pd.DataFrame(unique_artists_list)\n",
    "# merged_genres_artists_df = genre_data_frame.merge(artists_df)\n"
   ]
  },
  {
   "cell_type": "code",
   "execution_count": 116,
   "metadata": {
    "jupyter": {
     "source_hidden": true
    }
   },
   "outputs": [],
   "source": [
    "# Exporting to CSV \n",
    "\n",
    "# merged_genres_artists_df.to_csv(\"artists_with_genres.csv\")"
   ]
  },
  {
   "cell_type": "code",
   "execution_count": null,
   "metadata": {
    "jupyter": {
     "source_hidden": true
    }
   },
   "outputs": [],
   "source": [
    "# Adding Column Names and Index, Cleaning\n",
    "\n",
    "# merged_genres_artists_df.set_index(\"key_0\")\n",
    "# merged_genres_artists_df.columns = [\"Unknown\", \"artistGenre\", \"artistName\"]\n",
    "# merged_genres_artists_df.drop(columns=[\"Unknown\"], inplace=True)"
   ]
  },
  {
   "cell_type": "code",
   "execution_count": 7,
   "metadata": {},
   "outputs": [],
   "source": [
    "# Reading in the CSV with Genre Information\n",
    "csv_genre_df = pd.read_csv(\"genres_and_artists.csv\", header=0)\n",
    "genres_artists_df = pd.DataFrame()\n",
    "\n",
    "# Adding in the Troublesome Artists\n",
    "extra_rows = pd.DataFrame()\n",
    "extra_rows[\"artistName\"] = [\"Taylor Swift - Lover\", \"Max Embers\"]\n",
    "extra_rows[\"artistGenre\"] = [\"pop\", \"pop\"]\n",
    "\n",
    "genres_for_df = csv_genre_df[\"0_x\"]\n",
    "artists_for_df = csv_genre_df[\"0_y\"]\n",
    "\n",
    "genres_artists_df[\"artistGenre\"] = genres_for_df\n",
    "genres_artists_df[\"artistName\"] = artists_for_df\n",
    "\n",
    "final_to_merge = extra_rows.append(genres_artists_df)\n"
   ]
  },
  {
   "cell_type": "code",
   "execution_count": 8,
   "metadata": {},
   "outputs": [],
   "source": [
    "# Merging the Genre Information with the Original DataFrame\n",
    "data_frame = data_frame.merge(genres_artists_df, on=\"artistName\")"
   ]
  },
  {
   "cell_type": "code",
   "execution_count": 272,
   "metadata": {},
   "outputs": [],
   "source": [
    "# Exporting to CSV\n",
    "# data_frame.to_csv(\"with_genres.csv\")"
   ]
  },
  {
   "cell_type": "markdown",
   "metadata": {},
   "source": [
    "#### Working with NaN Values in the Genre Column"
   ]
  },
  {
   "cell_type": "code",
   "execution_count": 9,
   "metadata": {},
   "outputs": [
    {
     "name": "stdout",
     "output_type": "stream",
     "text": [
      "Number of NaN Values in artistGenre: 731\n"
     ]
    }
   ],
   "source": [
    "print(\"Number of NaN Values in artistGenre:\", data_frame[\"artistGenre\"].isnull().sum())"
   ]
  },
  {
   "cell_type": "markdown",
   "metadata": {},
   "source": [
    "Since the number of NaN values I have in the artistGenre column is relatively small considering the size of my dataset, I decided to drop these instances."
   ]
  },
  {
   "cell_type": "code",
   "execution_count": 10,
   "metadata": {},
   "outputs": [
    {
     "name": "stdout",
     "output_type": "stream",
     "text": [
      "Number of NaN Values in artistGenre: 0\n"
     ]
    }
   ],
   "source": [
    "data_frame = data_frame.dropna()\n",
    "\n",
    "# Checking to See the Null Values are Removed\n",
    "print(\"Number of NaN Values in artistGenre:\", data_frame[\"artistGenre\"].isnull().sum())"
   ]
  },
  {
   "cell_type": "markdown",
   "metadata": {},
   "source": [
    "#### Categorizing Each Genre"
   ]
  },
  {
   "cell_type": "markdown",
   "metadata": {},
   "source": [
    "Since the genre information from the Spotify API is very specific, I thought it would be useful to group certain genres together to get a more holistic view of the dataset and reduce the variation to aid with classification."
   ]
  },
  {
   "cell_type": "code",
   "execution_count": 11,
   "metadata": {},
   "outputs": [
    {
     "name": "stdout",
     "output_type": "stream",
     "text": [
      "0    dance pop\n",
      "1    dance pop\n",
      "2    dance pop\n",
      "3    dance pop\n",
      "4    dance pop\n",
      "Name: artistGenre, dtype: object\n",
      "            endTime artistName       trackName  msPlayed  dayOfWeek  \\\n",
      "0  2019-09-19 02:47      Lizzo  Cuz I Love You     33188          3   \n",
      "1  2019-09-26 08:01      Lizzo        Water Me      1980          3   \n",
      "2  2019-09-26 08:01      Lizzo    Good as Hell      4130          3   \n",
      "3  2019-09-29 22:24      Lizzo     Truth Hurts     10460          6   \n",
      "4  2019-09-29 22:31      Lizzo     Truth Hurts     41960          6   \n",
      "\n",
      "  skipOrPlay artistGenre  \n",
      "0       Play   dance pop  \n",
      "1       Skip   dance pop  \n",
      "2       Skip   dance pop  \n",
      "3       Play   dance pop  \n",
      "4       Play   dance pop  \n"
     ]
    }
   ],
   "source": [
    "\n",
    "my_genres = [\"rap\", \" hip hop\", \"jazz\", \"soul\", \"edm\", \"r&b\", \"pop\", \"jawaiian\", \"rock\"]\n",
    "\n",
    "\n",
    "\n",
    "\n",
    "print(data_frame[\"artistGenre\"].head())\n",
    "print(data_frame.head())"
   ]
  },
  {
   "cell_type": "code",
   "execution_count": 14,
   "metadata": {},
   "outputs": [],
   "source": [
    "counter = -1\n",
    "for spotify_genre in data_frame[\"artistGenre\"]:\n",
    "    counter += 1\n",
    "    for genre in my_genres:\n",
    "        if genre in spotify_genre:\n",
    "            data_frame.loc[counter, \"artistGenre\"] = genre\n"
   ]
  },
  {
   "cell_type": "code",
   "execution_count": null,
   "metadata": {},
   "outputs": [],
   "source": [
    "counter = -1\n",
    "for spotify_genre in data_frame[\"artistGenre\"]:\n",
    "    counter += 1\n",
    "    for genre in my_genres:\n",
    "        if genre not in spotify_genre:\n",
    "            data_frame.loc[counter, \"artistGenre\"] = genre"
   ]
  },
  {
   "cell_type": "code",
   "execution_count": 18,
   "metadata": {},
   "outputs": [
    {
     "data": {
      "text/plain": [
       "pop                9363\n",
       "rock               1694\n",
       " hip hop           1371\n",
       "rap                1370\n",
       "dance pop           957\n",
       "r&b                 571\n",
       "jawaiian            471\n",
       "soul                448\n",
       "edm                 262\n",
       "hip hop             238\n",
       "alternative r&b     171\n",
       "adult standards     143\n",
       "reggae fusion       137\n",
       "indie poptimism     128\n",
       "electropop          127\n",
       "cali rap            112\n",
       "atl hip hop         112\n",
       "trap queen           97\n",
       "barbadian pop        82\n",
       "modern rock          74\n",
       "Name: artistGenre, dtype: int64"
      ]
     },
     "execution_count": 18,
     "metadata": {},
     "output_type": "execute_result"
    }
   ],
   "source": [
    "\n",
    "data_frame[\"artistGenre\"].value_counts().head(n=20)\n",
    "\n"
   ]
  },
  {
   "cell_type": "markdown",
   "metadata": {},
   "source": [
    "## Conclusion"
   ]
  },
  {
   "cell_type": "markdown",
   "metadata": {},
   "source": [
    "## Looking for Trends Related to the Time Spent Listening Each Day"
   ]
  },
  {
   "cell_type": "markdown",
   "metadata": {},
   "source": [
    "### Grouping the Data by Day"
   ]
  },
  {
   "cell_type": "code",
   "execution_count": 151,
   "metadata": {},
   "outputs": [],
   "source": [
    "grouped_by_day = data_frame.groupby(\"dayOfWeek\")\n",
    "mean_each_day_ser = pd.Series(grouped_by_day[\"msPlayed\"].mean())\n",
    "\n",
    "days_list = [\"Sunday\", \"Monday\", \"Tuesday\", \"Wednesday\", \"Thursday\", \"Friday\", \"Saturday\"]"
   ]
  },
  {
   "cell_type": "markdown",
   "metadata": {},
   "source": [
    "### Graphing the Average Time Spent Listening Per Day"
   ]
  },
  {
   "cell_type": "code",
   "execution_count": 152,
   "metadata": {},
   "outputs": [
    {
     "data": {
      "image/png": "[encoded data removed]",
      "text/plain": [
       "<Figure size 504x504 with 1 Axes>"
      ]
     },
     "metadata": {},
     "output_type": "display_data"
    }
   ],
   "source": [
    "plt.figure(figsize=(7, 7))\n",
    "plt.title(\"Spotify Listening by Day - msPlayed\")\n",
    "plt.pie(mean_each_day_ser, labels=days_list, autopct=\"%1.1f%%\")\n",
    "plt.show()"
   ]
  },
  {
   "cell_type": "markdown",
   "metadata": {},
   "source": [
    "### Significance Test - Difference Between Time Spent Listening on Weekend vs Weekday?"
   ]
  },
  {
   "cell_type": "markdown",
   "metadata": {},
   "source": [
    "$H_{0}: \\mu_{WD} = \\mu_{WE}$  \n",
    "$H_{1}: \\mu_{WD} \\neq \\mu_{WE}$  \n",
    "\n",
    "$\\alpha = 0.05$"
   ]
  },
  {
   "cell_type": "code",
   "execution_count": 153,
   "metadata": {},
   "outputs": [
    {
     "name": "stdout",
     "output_type": "stream",
     "text": [
      "0.09419308144097328 0.9286139795166477\n"
     ]
    }
   ],
   "source": [
    "mean_each_weekday_list = [mean_each_day_ser[1], mean_each_day_ser[2], mean_each_day_ser[3], mean_each_day_ser[4], mean_each_day_ser[5]]\n",
    "mean_each_weekend_list = [mean_each_day_ser[0], mean_each_day_ser[6]]\n",
    "\n",
    "t_computed, p_value = stats.ttest_ind(mean_each_weekday_list, mean_each_weekend_list)\n",
    "print(t_computed, p_value)\n",
    "\n",
    "# p-value is greater than alpha - we accept null hypothesis - there is no significant difference between\n",
    "# time spend listening to music on weekend vs weekday"
   ]
  },
  {
   "cell_type": "markdown",
   "metadata": {},
   "source": [
    "### Creating Individual Groups Based on Day and Grouping by \"skipOrPlay\""
   ]
  },
  {
   "cell_type": "code",
   "execution_count": 154,
   "metadata": {},
   "outputs": [],
   "source": [
    "# Grouping the Data by \"dayOfWeek\" and \"skipOrPlay\"\n",
    "\n",
    "sunday_group = grouped_by_day.get_group(0)\n",
    "saturday_group = grouped_by_day.get_group(6)\n",
    "monday_group = grouped_by_day.get_group(1)\n",
    "tuesday_group = grouped_by_day.get_group(2)\n",
    "wednesday_group = grouped_by_day.get_group(3)\n",
    "thursday_group = grouped_by_day.get_group(4)\n",
    "friday_group = grouped_by_day.get_group(5)\n"
   ]
  },
  {
   "cell_type": "code",
   "execution_count": 155,
   "metadata": {},
   "outputs": [],
   "source": [
    "# Finding the Number of Skips and Plays Per Day\n",
    "\n",
    "skips_per_weekday = []\n",
    "plays_per_weekday = []\n",
    "\n",
    "weekday_groups = [monday_group, tuesday_group, wednesday_group, thursday_group, friday_group]\n",
    "\n",
    "for weekday in weekday_groups:\n",
    "    grouped = weekday.groupby(\"skipOrPlay\")\n",
    "    skips = grouped.get_group(\"Skip\")\n",
    "    plays = grouped.get_group(\"Play\")\n",
    "    skips_per_weekday.append(len(skips.index))\n",
    "    plays_per_weekday.append(len(plays.index))\n",
    "\n",
    "skips_per_weekend_day = []\n",
    "plays_per_weekend_day = []\n",
    "\n",
    "weekend_groups = [saturday_group, sunday_group]\n",
    "\n",
    "for weekend in weekend_groups:\n",
    "    grouped = weekend.groupby(\"skipOrPlay\")\n",
    "    skips = grouped.get_group(\"Skip\")\n",
    "    plays = grouped.get_group(\"Play\")\n",
    "    skips_per_weekend_day.append(len(skips.index))\n",
    "    plays_per_weekend_day.append(len(plays.index))\n",
    "    \n",
    "all_the_days = [sunday_group, monday_group, tuesday_group, wednesday_group, thursday_group, friday_group, saturday_group]\n",
    "skips_all_days = []\n",
    "plays_all_days = []\n",
    "\n",
    "for day in all_the_days:\n",
    "    grouped = day.groupby(\"skipOrPlay\")\n",
    "    skips = grouped.get_group(\"Skip\")\n",
    "    plays = grouped.get_group(\"Play\")\n",
    "    skips_all_days.append(len(skips.index))\n",
    "    plays_all_days.append(len(plays.index))\n",
    "    "
   ]
  },
  {
   "cell_type": "markdown",
   "metadata": {},
   "source": [
    "## Significance Test - Difference Between Number of Skips on Weekend vs Weekday?"
   ]
  },
  {
   "cell_type": "markdown",
   "metadata": {},
   "source": [
    "$H_{0}: \\mu_{WD} = \\mu_{WE}$  \n",
    "$H_{1}: \\mu_{WD} \\neq \\mu_{WE}$  \n",
    "\n",
    "$\\alpha = 0.05$"
   ]
  },
  {
   "cell_type": "code",
   "execution_count": 156,
   "metadata": {},
   "outputs": [
    {
     "name": "stdout",
     "output_type": "stream",
     "text": [
      "-0.532092416973406 0.6174469564753133\n"
     ]
    }
   ],
   "source": [
    "t_computed, p_value = stats.ttest_ind(skips_per_weekday, skips_per_weekend_day)\n",
    "print(t_computed, p_value)\n",
    "\n",
    "# p-value is smaller than alpha - we reject null hypothesis - there is a significant difference between\n",
    "# number of skips on weekend vs weekday"
   ]
  },
  {
   "cell_type": "markdown",
   "metadata": {},
   "source": [
    "## Significance Test - Difference Between Number of Plays on Weekend vs Weekday?"
   ]
  },
  {
   "cell_type": "markdown",
   "metadata": {},
   "source": [
    "$H_{0}: \\mu_{WD} = \\mu_{WE}$  \n",
    "$H_{1}: \\mu_{WD} \\neq \\mu_{WE}$  \n",
    "\n",
    "$\\alpha = 0.05$"
   ]
  },
  {
   "cell_type": "code",
   "execution_count": 157,
   "metadata": {},
   "outputs": [
    {
     "name": "stdout",
     "output_type": "stream",
     "text": [
      "-0.48288553050340444 0.6495776673806478\n"
     ]
    }
   ],
   "source": [
    "t_computed, p_value = stats.ttest_ind(plays_per_weekday, plays_per_weekend_day)\n",
    "print(t_computed, p_value)\n",
    "\n",
    "# p-value is greater than alpha - we accept null hypothesis - there is not a significant difference between\n",
    "# number of plays on weekend vs weekday"
   ]
  },
  {
   "cell_type": "markdown",
   "metadata": {},
   "source": [
    "## Graphing the Total Number of Skips and Plays by Day"
   ]
  },
  {
   "cell_type": "code",
   "execution_count": 158,
   "metadata": {},
   "outputs": [
    {
     "data": {
      "image/png": "[encoded data removed]",
      "text/plain": [
       "<Figure size 432x288 with 1 Axes>"
      ]
     },
     "metadata": {
      "needs_background": "light"
     },
     "output_type": "display_data"
    },
    {
     "data": {
      "image/png": "[encoded data removed]",
      "text/plain": [
       "<Figure size 432x288 with 1 Axes>"
      ]
     },
     "metadata": {
      "needs_background": "light"
     },
     "output_type": "display_data"
    }
   ],
   "source": [
    "labels = [\"Sunday\", \"Monday\", \"Tuesday\", \"Wednesday\", \"Thursday\", \"Friday\", \"Saturday\"]\n",
    "x = [1, 2, 3, 4, 5, 6, 7]\n",
    "\n",
    "plt.figure()\n",
    "plt.bar(x, skips_all_days, 0.45, color='b')\n",
    "plt.xticks(x, [\"Sun\", \"Mon\", \"Tue\", \"Wed\", \"Thurs\", \"Fri\", \"Sat\"])\n",
    "plt.xlabel(\"Day of the Week\")\n",
    "plt.ylabel(\"Total Number of Skips\")\n",
    "plt.title(\"Total Number of Skips Grouped By Day\")\n",
    "plt.show()\n",
    "\n",
    "plt.figure()\n",
    "plt.bar(x, plays_all_days, 0.45, color='g')\n",
    "plt.xticks(x, [\"Sun\", \"Mon\", \"Tue\", \"Wed\", \"Thurs\", \"Fri\", \"Sat\"])\n",
    "plt.xlabel(\"Day of the Week\")\n",
    "plt.ylabel(\"Total Number of Plays\")\n",
    "plt.title(\"Total Number of Plays Grouped By Day\")\n",
    "plt.show()\n"
   ]
  },
  {
   "cell_type": "code",
   "execution_count": 14,
   "metadata": {},
   "outputs": [],
   "source": [
    "# early_listening_list = []\n",
    "# late_listening_list = []\n",
    "\n",
    "# for value in data_frame[\"endTime\"]:\n",
    "#     date_info = datetime.strptime(value, \"%Y-%m-%d %H:%M\")\n",
    "#     tuple = date_info.timetuple()\n",
    "#     if (tuple[3] < 4) and (tuple[6] == 0 or tuple[6] == 6):\n",
    "#         early_listening_list.append(data_frame.iloc[value, \"msPlayed\"])\n",
    "#     if (tuple[3] > 3) and (tuple[6] == 0 or tuple[6] == 6):\n",
    "#         early_listening_list.append(data_frame.iloc[value, \"msPlayed\"])\n",
    "        \n",
    "\n",
    "    \n",
    "# # data_frame[\"dayOfWeek\"] = weekday_list #3"
   ]
  }
 ],
 "metadata": {
  "kernelspec": {
   "display_name": "Python 3",
   "language": "python",
   "name": "python3"
  },
  "language_info": {
   "codemirror_mode": {
    "name": "ipython",
    "version": 3
   },
   "file_extension": ".py",
   "mimetype": "text/x-python",
   "name": "python",
   "nbconvert_exporter": "python",
   "pygments_lexer": "ipython3",
   "version": "3.8.3"
  }
 },
 "nbformat": 4,
 "nbformat_minor": 4
}
