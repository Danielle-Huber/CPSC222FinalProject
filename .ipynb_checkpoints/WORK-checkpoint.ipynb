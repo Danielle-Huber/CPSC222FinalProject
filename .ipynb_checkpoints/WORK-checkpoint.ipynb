{
 "cells": [
  {
   "cell_type": "markdown",
   "metadata": {},
   "source": [
    "# Danielle's Final Project"
   ]
  },
  {
   "cell_type": "markdown",
   "metadata": {},
   "source": [
    "* Danielle Huber\n",
    "* CPSC 222 Fall 2020 \n",
    "* Final Project \n",
    "* 14 December 2020"
   ]
  },
  {
   "cell_type": "markdown",
   "metadata": {},
   "source": [
    "## Introduction"
   ]
  },
  {
   "cell_type": "markdown",
   "metadata": {},
   "source": [
    "My project lies within the music domain, as I am analyzing my Soptify data from 2019, in months of September to November. The original dataset provides the following information about each song I played in a JSON format: the date and time, artist name, track name, and milliseconds played. However, I also added the genre of the artist to the dataset and other features. Before doing any analysis of the dataset, I expected that I listen to more music on the weekend, as I have class and practices during the week. Additionally, I expected that I listen to more pop music above all other genres. For the classification portion of this assignment, I created three models to predict the time of day a song is played, either before 4pm or after. Of these, my decision tree classifier and support vector machines classifier were the most successful, in terms of mean accuracy. For fun, I also attempted to make several models to predict whether a song was skipped or played. "
   ]
  },
  {
   "cell_type": "markdown",
   "metadata": {},
   "source": [
    "## Data Preparation and Cleaning"
   ]
  },
  {
   "cell_type": "markdown",
   "metadata": {},
   "source": [
    "#### Importing Libraries"
   ]
  },
  {
   "cell_type": "code",
   "execution_count": 386,
   "metadata": {},
   "outputs": [],
   "source": [
    "import pandas as pd \n",
    "import numpy as np\n",
    "import matplotlib.pyplot as plt\n",
    "from datetime import datetime, date, time, timezone\n",
    "import scipy.stats as stats\n",
    "from sklearn import tree\n",
    "from sklearn.preprocessing import MinMaxScaler\n",
    "from sklearn.neighbors import KNeighborsClassifier\n",
    "from sklearn.model_selection import train_test_split\n",
    "from sklearn import preprocessing \n",
    "from sklearn import svm\n",
    "import math\n",
    "from statsmodels.stats.proportion import proportions_ztest"
   ]
  },
  {
   "cell_type": "markdown",
   "metadata": {},
   "source": [
    "#### Reading in the Data"
   ]
  },
  {
   "cell_type": "code",
   "execution_count": 274,
   "metadata": {},
   "outputs": [],
   "source": [
    "pandas_object = pd.read_json(\"StreamingHistory0.json\")\n",
    "csv_data = pandas_object.to_csv(\"music_data.csv\", index = 0)\n",
    "data_frame = pd.read_csv(\"music_data.csv\", header = 0)"
   ]
  },
  {
   "cell_type": "markdown",
   "metadata": {},
   "source": [
    "#### Making Sense of the Date Column"
   ]
  },
  {
   "cell_type": "markdown",
   "metadata": {},
   "source": [
    "I wanted to be able to know the day of the week for each instance, so I used the datetime library Python offers to get an integer value corresponding to each day (0: Sunday, 6: Saturday)."
   ]
  },
  {
   "cell_type": "code",
   "execution_count": 275,
   "metadata": {},
   "outputs": [],
   "source": [
    "weekday_list = []\n",
    "\n",
    "for value in data_frame[\"endTime\"]:\n",
    "    date_info = datetime.strptime(value, \"%Y-%m-%d %H:%M\")\n",
    "    tuple = date_info.timetuple()\n",
    "    weekday_list.append(tuple[6])\n",
    "    \n",
    "data_frame[\"dayOfWeek\"] = weekday_list"
   ]
  },
  {
   "cell_type": "markdown",
   "metadata": {},
   "source": [
    "#### Adding \"skipOrPlay\" Column"
   ]
  },
  {
   "cell_type": "markdown",
   "metadata": {},
   "source": [
    "I wanted to classify each track I played as a \"skip\" or a \"play\" to analyze my attention span for certain artists, genres, or music-listening behavior in general. If I played a song for less that 10 seconds (10000 milliseconds), I considered it to be a skipped song. Anything 10 seconds or above, I considered it to be a played song."
   ]
  },
  {
   "cell_type": "code",
   "execution_count": 276,
   "metadata": {},
   "outputs": [],
   "source": [
    "skip_column_list = []\n",
    "\n",
    "for value in data_frame[\"msPlayed\"]:\n",
    "    if value >= 10000:\n",
    "        skip_column_list.append(\"Play\")\n",
    "    if value < 10000:\n",
    "        skip_column_list.append(\"Skip\")\n",
    "\n",
    "data_frame[\"skipOrPlay\"] = skip_column_list"
   ]
  },
  {
   "cell_type": "markdown",
   "metadata": {},
   "source": [
    "#### Adding \"timeOfDay\" Column"
   ]
  },
  {
   "cell_type": "markdown",
   "metadata": {},
   "source": [
    "I wanted to look into the time of day when I listen to the most music, so I classified each of my instances with either a 0, indicating that I listened to the song before 4 pm, or a 1, indicating that I listened to the song after 4 pm. "
   ]
  },
  {
   "cell_type": "code",
   "execution_count": 277,
   "metadata": {},
   "outputs": [],
   "source": [
    "time_day_column = [] # 0 = early, 1 = late\n",
    "\n",
    "for value in data_frame[\"endTime\"]:\n",
    "    date_info = datetime.strptime(value, \"%Y-%m-%d %H:%M\")\n",
    "    tuple = date_info.timetuple()\n",
    "    if (tuple[3] < 4):\n",
    "        time_day_column.append(0)\n",
    "    if (tuple[3] > 3):\n",
    "        time_day_column.append(1)"
   ]
  },
  {
   "cell_type": "code",
   "execution_count": 278,
   "metadata": {},
   "outputs": [],
   "source": [
    "data_frame[\"timeOfDay\"] = time_day_column"
   ]
  },
  {
   "cell_type": "markdown",
   "metadata": {},
   "source": [
    "#### Adding \"artistGenre\" Column"
   ]
  },
  {
   "cell_type": "markdown",
   "metadata": {},
   "source": [
    "I wasn't able to successfully load in genre information for each artist using a Spotify API, so I ended up creating my own dataset consisting of the unique artists in my Spotify data and their corresponding genre. Then, I read in this CSV and merged it with my original dataframe. "
   ]
  },
  {
   "cell_type": "markdown",
   "metadata": {},
   "source": [
    "**Creating my Own Dataset**"
   ]
  },
  {
   "cell_type": "code",
   "execution_count": 73,
   "metadata": {},
   "outputs": [],
   "source": [
    "# unique_artists = data_frame[\"artistName\"].unique()\n",
    "# artist_data = pd.DataFrame()\n",
    "# artist_data[\"artistName\"] = unique_artists\n",
    "# artist_data.to_csv(\"artists_data.csv\")"
   ]
  },
  {
   "cell_type": "markdown",
   "metadata": {},
   "source": [
    "**Reading in my Dataset**"
   ]
  },
  {
   "cell_type": "code",
   "execution_count": 279,
   "metadata": {},
   "outputs": [],
   "source": [
    "data_frame_genres = pd.read_csv(\"genres.csv\", header = 0)\n",
    "data_frame = data_frame_genres.merge(data_frame, on=\"artistName\")"
   ]
  },
  {
   "cell_type": "code",
   "execution_count": 280,
   "metadata": {},
   "outputs": [],
   "source": [
    "data_frame.drop(columns=[\"Unnamed: 0\"],inplace=True)"
   ]
  },
  {
   "cell_type": "markdown",
   "metadata": {},
   "source": [
    "Note! I realized that I had mispelled the genre \"hawaiian\" for some of my instances. The code to correct this mistake is below."
   ]
  },
  {
   "cell_type": "code",
   "execution_count": 299,
   "metadata": {},
   "outputs": [],
   "source": [
    "counter = -1\n",
    "for genre in data_frame[\"artistGenre\"]:\n",
    "    counter += 1\n",
    "    if genre == \"haiwaiian\":\n",
    "        data_frame.loc[counter, \"artistGenre\"] = \"hawaiian\""
   ]
  },
  {
   "cell_type": "markdown",
   "metadata": {},
   "source": [
    "### Data Analysis"
   ]
  },
  {
   "cell_type": "markdown",
   "metadata": {},
   "source": [
    "### Looking for Trends Related to the Time Spent Listening Each Day"
   ]
  },
  {
   "cell_type": "markdown",
   "metadata": {},
   "source": [
    "Here, I wanted to look at the average time I spent listening each day to see if there were any differences that could potentially be attributed to my school schedule or my rugby practice schedule."
   ]
  },
  {
   "cell_type": "markdown",
   "metadata": {},
   "source": [
    "#### Grouping the Data by Day "
   ]
  },
  {
   "cell_type": "code",
   "execution_count": 313,
   "metadata": {},
   "outputs": [],
   "source": [
    "grouped_by_day = data_frame.groupby(\"dayOfWeek\")\n",
    "mean_each_day_ser = pd.Series(grouped_by_day[\"msPlayed\"].mean())\n",
    "\n",
    "days_list = [\"Sunday\", \"Monday\", \"Tuesday\", \"Wednesday\", \"Thursday\", \"Friday\", \"Saturday\"]"
   ]
  },
  {
   "cell_type": "markdown",
   "metadata": {},
   "source": [
    "#### Graphing the Average Time Spent Listening Per Day"
   ]
  },
  {
   "cell_type": "code",
   "execution_count": 315,
   "metadata": {},
   "outputs": [
    {
     "data": {
      "image/png": "[encoded data removed]",
      "text/plain": [
       "<Figure size 504x504 with 1 Axes>"
      ]
     },
     "metadata": {},
     "output_type": "display_data"
    }
   ],
   "source": [
    "plt.figure(figsize=(7, 7))\n",
    "plt.title(\"Spotify Listening by Day - msPlayed\")\n",
    "plt.pie(sum_each_day_ser, labels=days_list, autopct=\"%1.1f%%\")\n",
    "plt.show()"
   ]
  },
  {
   "cell_type": "markdown",
   "metadata": {},
   "source": [
    "Looking at the graph, I evidently spend less time listening to music on Friday's, likely because it is the last day of the school week. Plus, I'm usually socializing on Friday nights. I also noticed a difference between the time spent listening on Saturday and Sunday, which is odd because both are over the weekend, meaning there are less planned events on both of those days that might inhibit me from listening to music."
   ]
  },
  {
   "cell_type": "markdown",
   "metadata": {},
   "source": [
    "To assure that is no difference between the average time I spend listening to music on the weekend versus weekday, I conducted the significance test below.  "
   ]
  },
  {
   "cell_type": "markdown",
   "metadata": {},
   "source": [
    "#### Difference Between Time Spent Listening on Weekend vs Weekday?"
   ]
  },
  {
   "cell_type": "markdown",
   "metadata": {},
   "source": [
    "**Step One - Stating the Null and Alternative Hypothesis**\n",
    "\n",
    "$H_{0}: \\mu_{WD} = \\mu_{WE}$  \n",
    "$H_{1}: \\mu_{WD} \\neq \\mu_{WE}$ "
   ]
  },
  {
   "cell_type": "markdown",
   "metadata": {},
   "source": [
    "**Step Two - Select the Level of Significance**\n",
    "\n",
    "We will use a significance level of 0.01."
   ]
  },
  {
   "cell_type": "markdown",
   "metadata": {},
   "source": [
    "**Step Three - Select the Appropriate Test Statistic**\n",
    "\n",
    "We will use the t-statistic for independent samples because the population standard deviation is unknown and the groups are not paired.\n",
    "\n",
    "$t = \\frac{\\overline{x_1} - \\overline{x_2}}{\\sqrt{s_P^2(\\frac{1}{n_1}+\\frac{1}{n_2})}}$ where  $s_P^2 = \\frac{(n_1-1)s_1^2 + (n_2 - 1)s_2^2}{n_1 + n_2 - 2}$"
   ]
  },
  {
   "cell_type": "markdown",
   "metadata": {},
   "source": [
    "**Step Four - Formulate the Decision Rule**\n",
    "\n",
    "We will reject the null hypothesis if the obtained p-value is less than our significance level, 0.01. If the p-value is greater than 0.01, we fail to reject the null hypothesis and have provided sufficient evidence in support of the alternative hypothesis."
   ]
  },
  {
   "cell_type": "markdown",
   "metadata": {},
   "source": [
    "**Step Five - Make a Decision**\n",
    "\n",
    "We will use SciPy to calculate the p-value and t-computed."
   ]
  },
  {
   "cell_type": "code",
   "execution_count": 507,
   "metadata": {},
   "outputs": [
    {
     "name": "stdout",
     "output_type": "stream",
     "text": [
      "t-computed: 0.09742832247302176 p-value: 0.9261712214771419\n"
     ]
    }
   ],
   "source": [
    "mean_each_weekday_list = [mean_each_day_ser[1], mean_each_day_ser[2], mean_each_day_ser[3], mean_each_day_ser[4], mean_each_day_ser[5]]\n",
    "mean_each_weekend_list = [mean_each_day_ser[0], mean_each_day_ser[6]]\n",
    "\n",
    "t_computed, p_value = stats.ttest_ind(mean_each_weekday_list, mean_each_weekend_list)\n",
    "print(\"t-computed:\",t_computed,\"p-value:\", p_value)"
   ]
  },
  {
   "cell_type": "markdown",
   "metadata": {},
   "source": [
    "Since the p-value is greater than the significance level of 0.01, we cannot reject the null hypothesis. In other words, there is no significant difference between the time spend listening on the weekend versus weekday."
   ]
  },
  {
   "cell_type": "markdown",
   "metadata": {},
   "source": [
    "### Looking for Trends Related to the Time Spent Listening to Each Genre"
   ]
  },
  {
   "cell_type": "markdown",
   "metadata": {},
   "source": [
    "After examining the time spent listening to music by each day, I shifted to looking at any potential listening differences between genres."
   ]
  },
  {
   "cell_type": "markdown",
   "metadata": {},
   "source": [
    "#### Graphing the Average Time Spent Listening Per Day"
   ]
  },
  {
   "cell_type": "markdown",
   "metadata": {},
   "source": [
    "**Grouping the Data**"
   ]
  },
  {
   "cell_type": "code",
   "execution_count": 483,
   "metadata": {},
   "outputs": [],
   "source": [
    "grouped_by_genre = data_frame.groupby(\"artistGenre\")\n",
    "sum_each_genre_ser = pd.Series(grouped_by_genre[\"msPlayed\"].sum())"
   ]
  },
  {
   "cell_type": "markdown",
   "metadata": {},
   "source": [
    "**Converting from Milliseconds to Hours**"
   ]
  },
  {
   "cell_type": "code",
   "execution_count": 484,
   "metadata": {},
   "outputs": [],
   "source": [
    "time_each_genre_hr = []\n",
    "for time in sum_each_genre_ser:\n",
    "    time_each_genre_hr.append((time / 1000) / 60)\n",
    "\n",
    "y = time_each_genre_hr"
   ]
  },
  {
   "cell_type": "markdown",
   "metadata": {},
   "source": [
    "**Creating the Graph**"
   ]
  },
  {
   "cell_type": "code",
   "execution_count": 505,
   "metadata": {},
   "outputs": [
    {
     "data": {
      "image/png": "[encoded data removed]",
      "text/plain": [
       "<Figure size 504x360 with 1 Axes>"
      ]
     },
     "metadata": {
      "needs_background": "light"
     },
     "output_type": "display_data"
    }
   ],
   "source": [
    "plt.figure(figsize=(7, 5))\n",
    "plt.title(\"Spotify Listening by Genre - Hours Played\")\n",
    "plt.xticks(rotation=\"vertical\")\n",
    "plt.xlabel(\"Genre\")\n",
    "plt.ylabel(\"Hours\")\n",
    "plt.bar(sum_each_genre_ser.index, y)\n",
    "plt.show()"
   ]
  },
  {
   "cell_type": "markdown",
   "metadata": {},
   "source": [
    "The graph above demonstrates that my most listened-to genre is pop, followed by hiphop and rock. It's important to note that the time spent listening to pop is more than double the next closest genre. Because of this, I looked into the total number of skips and plays in the pop genre, expecting that pop songs would be played more often as opposed to skipped. "
   ]
  },
  {
   "cell_type": "code",
   "execution_count": 371,
   "metadata": {},
   "outputs": [
    {
     "name": "stdout",
     "output_type": "stream",
     "text": [
      "Number of Pop Skips: 4203\n",
      "Number of Pop Plays: 3250\n"
     ]
    }
   ],
   "source": [
    "pop_group = grouped_by_genre.get_group(\"pop\")\n",
    "pop_by_skip = pop_group.groupby(\"skipOrPlay\")\n",
    "\n",
    "pop_skips = pop_by_skip.get_group(\"Skip\")\n",
    "pop_plays = pop_by_skip.get_group(\"Play\")\n",
    "\n",
    "print(\"Number of Pop Skips:\", len(pop_skips.index))\n",
    "print(\"Number of Pop Plays:\", len(pop_plays.index))"
   ]
  },
  {
   "cell_type": "markdown",
   "metadata": {},
   "source": [
    "On the contrary, I'm actually more likely to skip a pop song rather than play it, which is odd considering I would view pop as my favorite genre according the time spent playing it in comparison to other genres. To dive a little deeper, I looked at the likelihood a song would be skipped or played, regardless of genre. "
   ]
  },
  {
   "cell_type": "markdown",
   "metadata": {},
   "source": [
    "### Examining the Likelihood that a Song will be Skipped or Played"
   ]
  },
  {
   "cell_type": "code",
   "execution_count": 514,
   "metadata": {},
   "outputs": [],
   "source": [
    "grouped_by_skip = data_frame.groupby(\"skipOrPlay\")\n",
    "skipped_songs = grouped_by_skip.get_group(\"Skip\")\n",
    "played_songs = grouped_by_skip.get_group(\"Play\")\n",
    "\n",
    "num_skips_plays = [len(skipped_songs.index), len(played_songs.index)]\n",
    "categories = [\"Skipped\", \"Played\"]"
   ]
  },
  {
   "cell_type": "markdown",
   "metadata": {},
   "source": [
    "#### Graphing the Average Time Spent Listening Per Day"
   ]
  },
  {
   "cell_type": "code",
   "execution_count": 523,
   "metadata": {},
   "outputs": [
    {
     "data": {
      "image/png": "[encoded data removed]",
      "text/plain": [
       "<Figure size 432x432 with 1 Axes>"
      ]
     },
     "metadata": {},
     "output_type": "display_data"
    }
   ],
   "source": [
    "plt.figure(figsize=(6, 6))\n",
    "plt.title(\"Spotify Songs Skipped versus Played\")\n",
    "plt.pie(num_skips_plays, labels=categories, autopct=\"%1.1f%%\")\n",
    "plt.show()"
   ]
  },
  {
   "cell_type": "markdown",
   "metadata": {},
   "source": [
    "According to the chart above, I skip more songs than I play, indicating that I'm either looking for the perfect sound, or I have a small attention span. Hopefully, it's the former. Next, I decided to look into if there were any trends relating to my skipping/playing behavior based on the time of day. When I go to sleep, I usually aim to limit my screentime, which would reflect more time just letting the songs play as opposed to always searching for a new one."
   ]
  },
  {
   "cell_type": "markdown",
   "metadata": {},
   "source": [
    "### Looking for Trends Related to Skipping Songs Depending on Time of Day"
   ]
  },
  {
   "cell_type": "markdown",
   "metadata": {},
   "source": [
    "As mentioned previously, I considered that there could be a relationship between the proportion of songs that I skip in the earlier part of the day versus the later part of the day. To analyze a potential difference, I conducted the significance test below."
   ]
  },
  {
   "cell_type": "markdown",
   "metadata": {},
   "source": [
    "#### Grouping the Data"
   ]
  },
  {
   "cell_type": "code",
   "execution_count": 398,
   "metadata": {},
   "outputs": [],
   "source": [
    "grouped_by_time_day = data_frame.groupby(\"timeOfDay\")\n",
    "early = grouped_by_time_day.get_group(0)\n",
    "late = grouped_by_time_day.get_group(1)\n",
    "\n",
    "early_skip_play = early.groupby(\"skipOrPlay\")\n",
    "late_skip_play = late.groupby(\"skipOrPlay\")\n",
    "\n",
    "early_skipped = early_skip_play.get_group(\"Skip\")\n",
    "late_skipped = late_skip_play.get_group(\"Skip\")"
   ]
  },
  {
   "cell_type": "markdown",
   "metadata": {},
   "source": [
    "#### Significant Difference Between the Proportion of Skips in the Early Day vs Late? "
   ]
  },
  {
   "cell_type": "markdown",
   "metadata": {},
   "source": [
    "**Step One - Stating the Null and Alternative Hypothesis**\n",
    "\n",
    "$H_{0}:  p_{E} \\geq p_{L} $  \n",
    "\n",
    "$H_{1}:  p_{E} < p_{L} $"
   ]
  },
  {
   "cell_type": "markdown",
   "metadata": {},
   "source": [
    "**Step Two - Select the Level of Significance**\n",
    "\n",
    "We will use a significance level of 0.01."
   ]
  },
  {
   "cell_type": "markdown",
   "metadata": {},
   "source": [
    "**Step Three - Select the Appropriate Test Statistic**\n",
    "\n",
    "We will use the z-statistic for two sample proportions because the samples are independent and each sample size is greater than 10.  \n",
    "\n",
    "$z = \\frac{(\\widehat{p_1} - \\widehat{p_2}) - (p_1 - p_2)}{\\sqrt{\\widehat{p} - (1 - \\widehat{p})}\\sqrt{}\\frac{1}{n_1} + \\frac{1}{n_2}} $  \n",
    "\n",
    "where $\\widehat{p} = \\frac{x_1 + x_2}{n_1 + n_2}$  "
   ]
  },
  {
   "cell_type": "markdown",
   "metadata": {},
   "source": [
    "**Step Four - Formulate the Decision Rule**\n",
    "\n",
    "We will reject the null hypothesis if the obtained p-value is less than our significance level, 0.01. If the p-value is greater than 0.01, we fail to reject the null hypothesis and have provided sufficient evidence in support of the alternative hypothesis."
   ]
  },
  {
   "cell_type": "code",
   "execution_count": 397,
   "metadata": {},
   "outputs": [
    {
     "name": "stdout",
     "output_type": "stream",
     "text": [
      "z-statistic: -1.2651776577609823 p-value: 0.10290382481838611\n"
     ]
    }
   ],
   "source": [
    "success_early, size_early = (len(early_skipped.index), len(early.index))\n",
    "success_late, size_late = (len(late_skipped.index), len(late.index))\n",
    "\n",
    "successes = np.array([success_early, success_late])\n",
    "samples = np.array([size_early, size_late])\n",
    "\n",
    "stat, p_value = proportions_ztest(count=successes, nobs=samples,  alternative='smaller')\n",
    "print(\"z-statistic:\", stat, \"p-value:\", p_value)"
   ]
  },
  {
   "cell_type": "markdown",
   "metadata": {},
   "source": [
    "Because the p-value is greater than the significance level, we cannot reject the null hypothesis. In other words, there is not a significant difference in the proportion of songs I skip in the early day versus the later part of the day."
   ]
  },
  {
   "cell_type": "markdown",
   "metadata": {},
   "source": [
    "Next, I decided to look at my top songs and artists, which are determined by the number of times I tapped them on Spotify, not the time spent listening to them."
   ]
  },
  {
   "cell_type": "markdown",
   "metadata": {},
   "source": [
    "### Looking at the Genres of My Top Songs and Artists"
   ]
  },
  {
   "cell_type": "code",
   "execution_count": 528,
   "metadata": {},
   "outputs": [
    {
     "name": "stdout",
     "output_type": "stream",
     "text": [
      "Top Songs\n",
      "-------------------------\n",
      "Somebody To Love    101\n",
      "I Can't Change       97\n",
      "Let Migo             91\n",
      "Nowhere Man          87\n",
      "Crash and Burn       86\n",
      "NASCAR               82\n",
      "Just My Luck         80\n",
      "Bang Bang            80\n",
      "Name: trackName, dtype: int64\n",
      "-------------------------\n",
      "Top Artists\n",
      "-------------------------\n",
      "Imagine Dragons    624\n",
      "Marc E. Bassy      539\n",
      "OneRepublic        363\n",
      "Bryce Vine         227\n",
      "Macklemore         177\n",
      "Andy Grammer       161\n",
      "Post Malone        157\n",
      "NF                 155\n",
      "Name: artistName, dtype: int64\n"
     ]
    }
   ],
   "source": [
    "print(\"Top Songs\")\n",
    "print(\"-------------------------\")\n",
    "print(data_frame[\"trackName\"].value_counts().head(n=8))\n",
    "print(\"-------------------------\")\n",
    "print(\"Top Artists\")\n",
    "print(\"-------------------------\")\n",
    "print(data_frame[\"artistName\"].value_counts().head(n=8))"
   ]
  },
  {
   "cell_type": "markdown",
   "metadata": {},
   "source": [
    "| Top Song | Genre | Top Artist | Genre |\n",
    "|---|---|---|---|\n",
    "| Somebody To Love | Pop | Imagine Dragons | Pop\n",
    "| I Can't Change | Rap | Marc E Bassy | Hiphop\n",
    "| Let Migo | Rap | One Republic | Rock\n",
    "| Nowhere Man | Hiphop | Bryce Vine | Hiphop\n",
    "| Crash and Burn | Hiphop | Macklemore | Rap\n",
    "| NASCAR | Hiphop | Andy Grammer | Pop\n",
    "| Just My Luck | Hiphop | Post Malone | Hiphop\n",
    "| Bang Bang | Hiphop | NF | Rap"
   ]
  },
  {
   "cell_type": "markdown",
   "metadata": {},
   "source": [
    "When looking into my tops songs and artists, it's interesting that most are not pop, even though my most-listened genre is pop."
   ]
  },
  {
   "cell_type": "markdown",
   "metadata": {},
   "source": [
    "## Classification Models"
   ]
  },
  {
   "cell_type": "markdown",
   "metadata": {},
   "source": [
    "I created several classification models to predict the timeOfDay of an instance, as well as the skipOrPlay of an instance. For both kNN models, I expermiented with changing the number of neightbors, so the number used below allowed the model to produce the highest accuracy. To evaluate each model's performance, I found the mean accuracy of each classifier."
   ]
  },
  {
   "cell_type": "markdown",
   "metadata": {},
   "source": [
    "### timeOfDay Classification"
   ]
  },
  {
   "cell_type": "markdown",
   "metadata": {},
   "source": [
    "For the time of day classifier, since I found earlier that the is no difference between the skipped/played feature and the time of day, I removed that column from the training set to increase the accuracy of the classifier."
   ]
  },
  {
   "cell_type": "markdown",
   "metadata": {},
   "source": [
    "**Creating Training and Test Set**"
   ]
  },
  {
   "cell_type": "code",
   "execution_count": 531,
   "metadata": {},
   "outputs": [],
   "source": [
    "X = data_frame.drop(columns=[\"artistName\", \"trackName\", \"endTime\", \"skipOrPlay\", \"timeOfDay\", \"msPlayed\"])\n",
    "y = data_frame[\"timeOfDay\"]"
   ]
  },
  {
   "cell_type": "markdown",
   "metadata": {},
   "source": [
    "**Converting Categorical Features to Numeric**"
   ]
  },
  {
   "cell_type": "code",
   "execution_count": 532,
   "metadata": {},
   "outputs": [],
   "source": [
    "le = preprocessing.LabelEncoder()\n",
    "le.fit(X[\"artistGenre\"])\n",
    "X[\"artistGenre\"] = le.transform(X[\"artistGenre\"])"
   ]
  },
  {
   "cell_type": "markdown",
   "metadata": {},
   "source": [
    "**Normalizing the Data**"
   ]
  },
  {
   "cell_type": "code",
   "execution_count": 533,
   "metadata": {},
   "outputs": [],
   "source": [
    "scaler = MinMaxScaler()\n",
    "scaler.fit(X, y)\n",
    "X_normalized = scaler.transform(X)"
   ]
  },
  {
   "cell_type": "markdown",
   "metadata": {},
   "source": [
    "#### kNN Classifier"
   ]
  },
  {
   "cell_type": "code",
   "execution_count": 539,
   "metadata": {},
   "outputs": [
    {
     "data": {
      "text/plain": [
       "KNeighborsClassifier(metric='euclidean', n_neighbors=21)"
      ]
     },
     "execution_count": 539,
     "metadata": {},
     "output_type": "execute_result"
    }
   ],
   "source": [
    "# Hold-Out Method for Selecting Training and Testing Set\n",
    "x_train, x_test, y_train, y_test = train_test_split(X_normalized, y, train_size=0.75, test_size=0.25, random_state=0)\n",
    "\n",
    "neigh = KNeighborsClassifier(n_neighbors=21, metric=\"euclidean\") \n",
    "neigh.fit(x_train, y_train)"
   ]
  },
  {
   "cell_type": "code",
   "execution_count": 540,
   "metadata": {},
   "outputs": [
    {
     "name": "stdout",
     "output_type": "stream",
     "text": [
      "Mean Accuracy of kNN Classifier: 0.8287657531506302\n"
     ]
    }
   ],
   "source": [
    "mean_accuracy_neigh = neigh.score(x_test, y_test)\n",
    "print(\"Mean Accuracy of kNN Classifier:\", mean_accuracy_neigh)"
   ]
  },
  {
   "cell_type": "markdown",
   "metadata": {},
   "source": [
    "#### Decision Tree Classifier"
   ]
  },
  {
   "cell_type": "code",
   "execution_count": 535,
   "metadata": {},
   "outputs": [],
   "source": [
    "clf = tree.DecisionTreeClassifier()\n",
    "clf = clf.fit(X, y)"
   ]
  },
  {
   "cell_type": "code",
   "execution_count": 536,
   "metadata": {},
   "outputs": [
    {
     "name": "stdout",
     "output_type": "stream",
     "text": [
      "Mean Accuracy of Decision Tree Classifier: 0.8299659931986397\n"
     ]
    }
   ],
   "source": [
    "mean_accuracy_clf = clf.score(x_test, y_test)\n",
    "print(\"Mean Accuracy of Decision Tree Classifier:\", mean_accuracy_clf)"
   ]
  },
  {
   "cell_type": "markdown",
   "metadata": {},
   "source": [
    "#### Support Vector Machines Classifier"
   ]
  },
  {
   "cell_type": "code",
   "execution_count": 537,
   "metadata": {},
   "outputs": [],
   "source": [
    "svc = svm.SVC()\n",
    "svc = svc.fit(X, y)"
   ]
  },
  {
   "cell_type": "code",
   "execution_count": 538,
   "metadata": {},
   "outputs": [
    {
     "name": "stdout",
     "output_type": "stream",
     "text": [
      "Mean Accuracy of SVM Classifier: 0.8299659931986397\n"
     ]
    }
   ],
   "source": [
    "mean_accuracy_svc = svc.score(x_test, y_test)\n",
    "print(\"Mean Accuracy of SVM Classifier:\", mean_accuracy_svc)"
   ]
  },
  {
   "cell_type": "markdown",
   "metadata": {},
   "source": [
    "Since both the support vector machine classifier and decision tree classifier have the same mean accuracy, these models have tied for the most accurate in predicting the time of day a song is played. However, it is important to note that the kNN classifier only trails by less than one percent, which is almost negligible."
   ]
  },
  {
   "cell_type": "markdown",
   "metadata": {},
   "source": [
    "### skipOrPlay Classification "
   ]
  },
  {
   "cell_type": "code",
   "execution_count": 458,
   "metadata": {},
   "outputs": [],
   "source": [
    "X = data_frame.drop(columns=[\"artistName\", \"trackName\", \"endTime\", \"skipOrPlay\", \"msPlayed\"])\n",
    "y = data_frame[\"skipOrPlay\"]"
   ]
  },
  {
   "cell_type": "code",
   "execution_count": 429,
   "metadata": {},
   "outputs": [],
   "source": [
    "le = preprocessing.LabelEncoder()\n",
    "le.fit(X[\"artistGenre\"])\n",
    "X[\"artistGenre\"] = le.transform(X[\"artistGenre\"])"
   ]
  },
  {
   "cell_type": "markdown",
   "metadata": {},
   "source": [
    "#### knn Classifier"
   ]
  },
  {
   "cell_type": "code",
   "execution_count": 430,
   "metadata": {},
   "outputs": [],
   "source": [
    "scaler.fit(X, y)\n",
    "X_normalized = scaler.transform(X)"
   ]
  },
  {
   "cell_type": "code",
   "execution_count": 541,
   "metadata": {},
   "outputs": [
    {
     "data": {
      "text/plain": [
       "KNeighborsClassifier(metric='euclidean', n_neighbors=29)"
      ]
     },
     "execution_count": 541,
     "metadata": {},
     "output_type": "execute_result"
    }
   ],
   "source": [
    "# Hold-Out Method Again\n",
    "x_train, x_test, y_train, y_test = train_test_split(X_normalized, y, train_size=0.75, test_size=0.25, random_state=0)\n",
    "\n",
    "neigh = KNeighborsClassifier(n_neighbors=29, metric=\"euclidean\") \n",
    "neigh.fit(x_train, y_train)"
   ]
  },
  {
   "cell_type": "code",
   "execution_count": 457,
   "metadata": {},
   "outputs": [
    {
     "name": "stdout",
     "output_type": "stream",
     "text": [
      "Mean Accuracy of kNN Classifier: 0.5547109421884376\n"
     ]
    }
   ],
   "source": [
    "mean_accuracy_neigh = neigh.score(x_test, y_test)\n",
    "print(\"Mean Accuracy of kNN Classifier:\", mean_accuracy_neigh)"
   ]
  },
  {
   "cell_type": "markdown",
   "metadata": {},
   "source": [
    "#### Decision Tree Classifier"
   ]
  },
  {
   "cell_type": "code",
   "execution_count": 433,
   "metadata": {},
   "outputs": [],
   "source": [
    "clf = tree.DecisionTreeClassifier()\n",
    "clf = clf.fit(X, y)"
   ]
  },
  {
   "cell_type": "code",
   "execution_count": 434,
   "metadata": {},
   "outputs": [
    {
     "name": "stdout",
     "output_type": "stream",
     "text": [
      "Mean Accuracy of Decision Tree Classifier: 0.5485097019403881\n"
     ]
    }
   ],
   "source": [
    "mean_accuracy_clf = clf.score(x_test, y_test)\n",
    "print(\"Mean Accuracy of Decision Tree Classifier:\", mean_accuracy_clf)"
   ]
  },
  {
   "cell_type": "markdown",
   "metadata": {},
   "source": [
    "#### Support Vector Machines Classifier"
   ]
  },
  {
   "cell_type": "code",
   "execution_count": 435,
   "metadata": {},
   "outputs": [],
   "source": [
    "svc = svm.SVC()\n",
    "svc = svc.fit(X, y)"
   ]
  },
  {
   "cell_type": "code",
   "execution_count": 437,
   "metadata": {},
   "outputs": [
    {
     "name": "stdout",
     "output_type": "stream",
     "text": [
      "Mean Accuracy of SVM Classifier: 0.5731146229245849\n"
     ]
    }
   ],
   "source": [
    "mean_accuracy_svc = svc.score(x_test, y_test)\n",
    "print(\"Mean Accuracy of SVM Classifier:\", mean_accuracy_svc)"
   ]
  },
  {
   "cell_type": "markdown",
   "metadata": {},
   "source": [
    "The best classification model for determing the \"skipOrPlay\" of a song is the support vector machines classifier. However, considering this is binomial classification, it is important to note that the accuracy is not much more than guessing at random."
   ]
  },
  {
   "cell_type": "markdown",
   "metadata": {},
   "source": [
    "# Conclusion"
   ]
  },
  {
   "cell_type": "markdown",
   "metadata": {},
   "source": [
    "Overall, using this Spotify dataset, I was able to examine some of the underlying trends of my music listening behavior. I discovered that I skip songs more than I play them, I listen to less music on Friday's, I don't listen to more music on the weekends, and I love the music genre of pop. Additionally, I was able to create several classifiers that have to ability to determine the time of day that a song is played, with roughly a 80 percent mean accuracy. Some of the inherent challenges with classification on Spotify datasets are that users are often suggested songs to listen to. In other words, it may not be the user choosing a genre, artist, or song to play, but rather the application itself. Nonetheless, I do think the accuracy of my classification model could be improved if I had more information about the user, including their sleep levels or amount of free time, etc. More information about the user that could be related to their Spotify activity could greatly increase my classifier's ability.\n",
    "\n",
    "I would also like to note that it is important to consider the ethical implications of this project. In particular, doing an analysis of one's music data may lead to several impacts. For example, one might change their music listening behavior after viewing their own trends. While this may not seem like a grave consequence, music does have an influence on an individual's mood and productivity. Additionally, changing one's music listening behavior could also change the way Spotify values and pays an artist, as he or she could be losing the business of a user. "
   ]
  }
 ],
 "metadata": {
  "kernelspec": {
   "display_name": "Python 3",
   "language": "python",
   "name": "python3"
  },
  "language_info": {
   "codemirror_mode": {
    "name": "ipython",
    "version": 3
   },
   "file_extension": ".py",
   "mimetype": "text/x-python",
   "name": "python",
   "nbconvert_exporter": "python",
   "pygments_lexer": "ipython3",
   "version": "3.8.3"
  }
 },
 "nbformat": 4,
 "nbformat_minor": 4
}
